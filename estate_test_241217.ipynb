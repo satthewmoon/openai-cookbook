{
  "nbformat": 4,
  "nbformat_minor": 0,
  "metadata": {
    "colab": {
      "provenance": [],
      "authorship_tag": "ABX9TyPgAWCWIvgqWi/nNDTVSjvn",
      "include_colab_link": true
    },
    "kernelspec": {
      "name": "python3",
      "display_name": "Python 3"
    },
    "language_info": {
      "name": "python"
    }
  },
  "cells": [
    {
      "cell_type": "markdown",
      "metadata": {
        "id": "view-in-github",
        "colab_type": "text"
      },
      "source": [
        "<a href=\"https://colab.research.google.com/github/satthewmoon/openai-cookbook/blob/main/estate_test_241217.ipynb\" target=\"_parent\"><img src=\"https://colab.research.google.com/assets/colab-badge.svg\" alt=\"Open In Colab\"/></a>"
      ]
    },
    {
      "cell_type": "code",
      "execution_count": null,
      "metadata": {
        "id": "P4tu9w-woZ33"
      },
      "outputs": [],
      "source": [
        "# GitHub 유저 설정\n",
        "!git config --global user.name \"satthewmoon\"\n",
        "!git config --global user.email \"youremail@example.com\"\n",
        "\n",
        "# Private 레포지토리 클론\n",
        "!git clone https://<YourUsername>:<YourPAT>@github.com/<YourUsername>/<YourRepository>.git\n"
      ]
    }
  ]
}